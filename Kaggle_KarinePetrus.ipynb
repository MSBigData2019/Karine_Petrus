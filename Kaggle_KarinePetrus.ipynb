{
 "cells": [
  {
   "cell_type": "code",
   "execution_count": 1,
   "metadata": {},
   "outputs": [
    {
     "name": "stderr",
     "output_type": "stream",
     "text": [
      "/home/karine/anaconda3/lib/python3.6/importlib/_bootstrap.py:219: RuntimeWarning: numpy.dtype size changed, may indicate binary incompatibility. Expected 96, got 88\n",
      "  return f(*args, **kwds)\n",
      "/home/karine/anaconda3/lib/python3.6/importlib/_bootstrap.py:219: RuntimeWarning: numpy.dtype size changed, may indicate binary incompatibility. Expected 96, got 88\n",
      "  return f(*args, **kwds)\n",
      "/home/karine/.local/lib/python3.6/site-packages/sklearn/ensemble/weight_boosting.py:29: DeprecationWarning: numpy.core.umath_tests is an internal NumPy module and should not be imported. It will be removed in a future NumPy release.\n",
      "  from numpy.core.umath_tests import inner1d\n"
     ]
    }
   ],
   "source": [
    "import numpy as np\n",
    "import pandas as pd\n",
    "from sklearn.ensemble import RandomForestClassifier,ExtraTreesClassifier,AdaBoostClassifier\n",
    "from sklearn.tree import DecisionTreeClassifier\n",
    "from sklearn.model_selection import GridSearchCV\n",
    "from sklearn.metrics import accuracy_score\n",
    "from sklearn.svm import SVC\n",
    "import os\n",
    "from sklearn.neural_network import MLPClassifier\n",
    "from sklearn.neighbors import KNeighborsClassifier\n",
    "from sklearn.svm import SVC\n",
    "from sklearn.gaussian_process import GaussianProcessClassifier\n",
    "from sklearn.gaussian_process.kernels import RBF\n",
    "from sklearn.tree import DecisionTreeClassifier\n",
    "from sklearn.ensemble import RandomForestClassifier, AdaBoostClassifier\n",
    "from sklearn.naive_bayes import GaussianNB\n",
    "from sklearn.discriminant_analysis import QuadraticDiscriminantAnalysis\n",
    "from sklearn.decomposition import PCA\n",
    "import matplotlib.pyplot as plt  \n",
    "import seaborn as sns\n",
    "from sklearn.preprocessing import StandardScaler\n",
    "import xgboost\n",
    "from xgboost import XGBClassifier\n",
    "import warnings\n",
    "warnings.filterwarnings('ignore')"
   ]
  },
  {
   "cell_type": "markdown",
   "metadata": {},
   "source": [
    "# Exploring and cleaning the data"
   ]
  },
  {
   "cell_type": "code",
   "execution_count": 2,
   "metadata": {},
   "outputs": [
    {
     "data": {
      "text/html": [
       "<div>\n",
       "<style scoped>\n",
       "    .dataframe tbody tr th:only-of-type {\n",
       "        vertical-align: middle;\n",
       "    }\n",
       "\n",
       "    .dataframe tbody tr th {\n",
       "        vertical-align: top;\n",
       "    }\n",
       "\n",
       "    .dataframe thead th {\n",
       "        text-align: right;\n",
       "    }\n",
       "</style>\n",
       "<table border=\"1\" class=\"dataframe\">\n",
       "  <thead>\n",
       "    <tr style=\"text-align: right;\">\n",
       "      <th></th>\n",
       "      <th>Id</th>\n",
       "      <th>Elevation</th>\n",
       "      <th>Aspect</th>\n",
       "      <th>Slope</th>\n",
       "      <th>Horizontal_Distance_To_Hydrology</th>\n",
       "      <th>Vertical_Distance_To_Hydrology</th>\n",
       "      <th>Horizontal_Distance_To_Roadways</th>\n",
       "      <th>Hillshade_9am</th>\n",
       "      <th>Hillshade_Noon</th>\n",
       "      <th>Hillshade_3pm</th>\n",
       "      <th>...</th>\n",
       "      <th>Soil_Type32</th>\n",
       "      <th>Soil_Type33</th>\n",
       "      <th>Soil_Type34</th>\n",
       "      <th>Soil_Type35</th>\n",
       "      <th>Soil_Type36</th>\n",
       "      <th>Soil_Type37</th>\n",
       "      <th>Soil_Type38</th>\n",
       "      <th>Soil_Type39</th>\n",
       "      <th>Soil_Type40</th>\n",
       "      <th>Cover_Type</th>\n",
       "    </tr>\n",
       "  </thead>\n",
       "  <tbody>\n",
       "    <tr>\n",
       "      <th>0</th>\n",
       "      <td>1</td>\n",
       "      <td>2611</td>\n",
       "      <td>326</td>\n",
       "      <td>20</td>\n",
       "      <td>120</td>\n",
       "      <td>27</td>\n",
       "      <td>1597</td>\n",
       "      <td>168</td>\n",
       "      <td>214</td>\n",
       "      <td>184</td>\n",
       "      <td>...</td>\n",
       "      <td>0</td>\n",
       "      <td>0</td>\n",
       "      <td>0</td>\n",
       "      <td>0</td>\n",
       "      <td>0</td>\n",
       "      <td>0</td>\n",
       "      <td>0</td>\n",
       "      <td>0</td>\n",
       "      <td>0</td>\n",
       "      <td>6</td>\n",
       "    </tr>\n",
       "    <tr>\n",
       "      <th>1</th>\n",
       "      <td>2</td>\n",
       "      <td>2772</td>\n",
       "      <td>324</td>\n",
       "      <td>17</td>\n",
       "      <td>42</td>\n",
       "      <td>7</td>\n",
       "      <td>1814</td>\n",
       "      <td>175</td>\n",
       "      <td>220</td>\n",
       "      <td>183</td>\n",
       "      <td>...</td>\n",
       "      <td>0</td>\n",
       "      <td>0</td>\n",
       "      <td>0</td>\n",
       "      <td>0</td>\n",
       "      <td>0</td>\n",
       "      <td>0</td>\n",
       "      <td>0</td>\n",
       "      <td>0</td>\n",
       "      <td>0</td>\n",
       "      <td>2</td>\n",
       "    </tr>\n",
       "    <tr>\n",
       "      <th>2</th>\n",
       "      <td>3</td>\n",
       "      <td>2764</td>\n",
       "      <td>4</td>\n",
       "      <td>14</td>\n",
       "      <td>480</td>\n",
       "      <td>-21</td>\n",
       "      <td>700</td>\n",
       "      <td>201</td>\n",
       "      <td>212</td>\n",
       "      <td>148</td>\n",
       "      <td>...</td>\n",
       "      <td>0</td>\n",
       "      <td>0</td>\n",
       "      <td>0</td>\n",
       "      <td>0</td>\n",
       "      <td>0</td>\n",
       "      <td>0</td>\n",
       "      <td>0</td>\n",
       "      <td>0</td>\n",
       "      <td>0</td>\n",
       "      <td>2</td>\n",
       "    </tr>\n",
       "    <tr>\n",
       "      <th>3</th>\n",
       "      <td>4</td>\n",
       "      <td>3032</td>\n",
       "      <td>342</td>\n",
       "      <td>9</td>\n",
       "      <td>60</td>\n",
       "      <td>8</td>\n",
       "      <td>4050</td>\n",
       "      <td>202</td>\n",
       "      <td>227</td>\n",
       "      <td>164</td>\n",
       "      <td>...</td>\n",
       "      <td>0</td>\n",
       "      <td>0</td>\n",
       "      <td>0</td>\n",
       "      <td>0</td>\n",
       "      <td>0</td>\n",
       "      <td>0</td>\n",
       "      <td>0</td>\n",
       "      <td>0</td>\n",
       "      <td>0</td>\n",
       "      <td>2</td>\n",
       "    </tr>\n",
       "    <tr>\n",
       "      <th>4</th>\n",
       "      <td>5</td>\n",
       "      <td>2488</td>\n",
       "      <td>23</td>\n",
       "      <td>11</td>\n",
       "      <td>117</td>\n",
       "      <td>21</td>\n",
       "      <td>1117</td>\n",
       "      <td>209</td>\n",
       "      <td>218</td>\n",
       "      <td>151</td>\n",
       "      <td>...</td>\n",
       "      <td>0</td>\n",
       "      <td>0</td>\n",
       "      <td>0</td>\n",
       "      <td>0</td>\n",
       "      <td>0</td>\n",
       "      <td>0</td>\n",
       "      <td>0</td>\n",
       "      <td>0</td>\n",
       "      <td>0</td>\n",
       "      <td>2</td>\n",
       "    </tr>\n",
       "  </tbody>\n",
       "</table>\n",
       "<p>5 rows × 56 columns</p>\n",
       "</div>"
      ],
      "text/plain": [
       "   Id  Elevation  Aspect  Slope  Horizontal_Distance_To_Hydrology  \\\n",
       "0   1       2611     326     20                               120   \n",
       "1   2       2772     324     17                                42   \n",
       "2   3       2764       4     14                               480   \n",
       "3   4       3032     342      9                                60   \n",
       "4   5       2488      23     11                               117   \n",
       "\n",
       "   Vertical_Distance_To_Hydrology  Horizontal_Distance_To_Roadways  \\\n",
       "0                              27                             1597   \n",
       "1                               7                             1814   \n",
       "2                             -21                              700   \n",
       "3                               8                             4050   \n",
       "4                              21                             1117   \n",
       "\n",
       "   Hillshade_9am  Hillshade_Noon  Hillshade_3pm     ...      Soil_Type32  \\\n",
       "0            168             214            184     ...                0   \n",
       "1            175             220            183     ...                0   \n",
       "2            201             212            148     ...                0   \n",
       "3            202             227            164     ...                0   \n",
       "4            209             218            151     ...                0   \n",
       "\n",
       "   Soil_Type33  Soil_Type34  Soil_Type35  Soil_Type36  Soil_Type37  \\\n",
       "0            0            0            0            0            0   \n",
       "1            0            0            0            0            0   \n",
       "2            0            0            0            0            0   \n",
       "3            0            0            0            0            0   \n",
       "4            0            0            0            0            0   \n",
       "\n",
       "   Soil_Type38  Soil_Type39  Soil_Type40  Cover_Type  \n",
       "0            0            0            0           6  \n",
       "1            0            0            0           2  \n",
       "2            0            0            0           2  \n",
       "3            0            0            0           2  \n",
       "4            0            0            0           2  \n",
       "\n",
       "[5 rows x 56 columns]"
      ]
     },
     "execution_count": 2,
     "metadata": {},
     "output_type": "execute_result"
    }
   ],
   "source": [
    "train = pd.read_csv('train-set.csv')\n",
    "test  = pd.read_csv('test-set.csv')\n",
    "train.head()"
   ]
  },
  {
   "cell_type": "markdown",
   "metadata": {},
   "source": [
    "After having verified there is no Nan values and that the data is cleaned, which is the case here, we can begin our first step.\n",
    "The first step to do a machine learning project is to look at the covariates and see how they correlate between \n",
    "each other, their influence on the target we want to predict. It is also important to have some knowledge of the domain in order to create other features which are relevant for predicting our target."
   ]
  },
  {
   "cell_type": "code",
   "execution_count": 3,
   "metadata": {},
   "outputs": [
    {
     "data": {
      "text/plain": [
       "array([[<matplotlib.axes._subplots.AxesSubplot object at 0x7f05848c32b0>,\n",
       "        <matplotlib.axes._subplots.AxesSubplot object at 0x7f05828877b8>,\n",
       "        <matplotlib.axes._subplots.AxesSubplot object at 0x7f0582831da0>],\n",
       "       [<matplotlib.axes._subplots.AxesSubplot object at 0x7f058285f438>,\n",
       "        <matplotlib.axes._subplots.AxesSubplot object at 0x7f0582806ac8>,\n",
       "        <matplotlib.axes._subplots.AxesSubplot object at 0x7f0582806b00>],\n",
       "       [<matplotlib.axes._subplots.AxesSubplot object at 0x7f05827e1828>,\n",
       "        <matplotlib.axes._subplots.AxesSubplot object at 0x7f0582789eb8>,\n",
       "        <matplotlib.axes._subplots.AxesSubplot object at 0x7f058273a588>]],\n",
       "      dtype=object)"
      ]
     },
     "execution_count": 3,
     "metadata": {},
     "output_type": "execute_result"
    },
    {
     "data": {
      "image/png": "[encoded data removed]",
      "text/plain": [
       "<Figure size 1152x720 with 9 Axes>"
      ]
     },
     "metadata": {},
     "output_type": "display_data"
    }
   ],
   "source": [
    "train.iloc[:,2:11].hist(figsize=(16,10), bins=50) "
   ]
  },
  {
   "cell_type": "markdown",
   "metadata": {},
   "source": [
    "By looking the distribution of the features, we can see that some of them as the Horizontal_Distance_To_Hydrology can be transformed to have more gaussian shape. We will look at that case below."
   ]
  },
  {
   "cell_type": "markdown",
   "metadata": {},
   "source": [
    "# Creating new features (feature engineering)"
   ]
  },
  {
   "cell_type": "markdown",
   "metadata": {},
   "source": [
    "I am convinced that the creation of new features, transformation of the data \n",
    "will have a stronger impact on the result than the choise of the evaluator"
   ]
  },
  {
   "cell_type": "markdown",
   "metadata": {},
   "source": [
    "## Distance to Hydrology"
   ]
  },
  {
   "cell_type": "markdown",
   "metadata": {},
   "source": [
    "In this subsection, I am creating new features which are more correlated to the Cover_Type."
   ]
  },
  {
   "cell_type": "code",
   "execution_count": 5,
   "metadata": {},
   "outputs": [],
   "source": [
    "dist_to_water = train.loc[:, ['Horizontal_Distance_To_Hydrology', 'Vertical_Distance_To_Hydrology']].apply(lambda x: np.sqrt(x[0]**2 + x[1]**2), axis=1)\n",
    "dist_to_water_test = test.loc[:, ['Horizontal_Distance_To_Hydrology', 'Vertical_Distance_To_Hydrology']].apply(lambda x: np.sqrt(x[0]**2 + x[1]**2), axis=1)\n",
    "\n",
    "train['dist_to_water'] = train.loc[:, ['Horizontal_Distance_To_Hydrology', 'Vertical_Distance_To_Hydrology']].apply(lambda x: np.sqrt(x[0]**2 + x[1]**2), axis=1)\n",
    "test['dist_to_water_test'] = test.loc[:, ['Horizontal_Distance_To_Hydrology', 'Vertical_Distance_To_Hydrology']].apply(lambda x: np.sqrt(x[0]**2 + x[1]**2), axis=1)\n",
    "\n",
    "\n",
    "train['mean_hillshade'] =  np.mean(train['Hillshade_9am']  + train['Hillshade_Noon'] + train['Hillshade_3pm'] )\n",
    "\n",
    "test['mean_hillshade'] =  np.mean(test['Hillshade_9am']  + test['Hillshade_Noon'] + test['Hillshade_3pm'] )\n"
   ]
  },
  {
   "cell_type": "markdown",
   "metadata": {},
   "source": [
    "## Linear relation between the different categorical features "
   ]
  },
  {
   "cell_type": "markdown",
   "metadata": {},
   "source": [
    "In this subsection, I am creating vectors which are the linear relation between the different categorical features."
   ]
  },
  {
   "cell_type": "code",
   "execution_count": 6,
   "metadata": {},
   "outputs": [],
   "source": [
    "\n",
    "#Code from http://www.filipyoo.com/learn-data-science-with-kaggle-using-python/\n",
    "\n",
    "def categorize(df, cols_name):\n",
    "    for k in range(df.shape[1]):\n",
    "        df[cols_name+str(k+1)] = df.loc[:, cols_name+str(k+1)].map({1:k+1, 0:0})\n",
    "    return df\n",
    "\n",
    "wilderness = train.loc[:, 'Wilderness_Area1': 'Wilderness_Area4']\n",
    "wilderness = categorize(wilderness, 'Wilderness_Area')\n",
    "wilderness = wilderness.sum(axis=1).astype('category')\n",
    "\n",
    "train['wilderness']=wilderness \n",
    "\n",
    "wilderness_test = test.loc[:, 'Wilderness_Area1': 'Wilderness_Area4']\n",
    "wilderness_test = categorize(wilderness_test, 'Wilderness_Area')\n",
    "wilderness_test = wilderness_test.sum(axis=1).astype('category')\n",
    "test['wilderness_test']=wilderness_test\n",
    "#test = pd.concat([test, wilderness_test], axis=1)\n",
    "\n",
    "\n",
    "# categorize the 40 columns of Soil_Type into 1 single column \n",
    "soil = train.loc[:, 'Soil_Type1': 'Soil_Type40']\n",
    "soil = categorize(soil, 'Soil_Type')\n",
    "soil = soil.sum(axis=1).astype('category')\n",
    "soil = pd.DataFrame(soil, columns=['soil'])\n",
    "train['soil']=soil \n",
    "\n",
    "soil_test = test.loc[:, 'Soil_Type1': 'Soil_Type40']\n",
    "soil_test = categorize(soil_test, 'Soil_Type')\n",
    "soil_test = soil_test.sum(axis=1).astype('category')\n",
    "soil_test = pd.DataFrame(soil_test, columns=['soil_test'])\n",
    "test['soil_test']=soil_test"
   ]
  },
  {
   "cell_type": "markdown",
   "metadata": {},
   "source": [
    "## Hillshade mean"
   ]
  },
  {
   "cell_type": "code",
   "execution_count": 7,
   "metadata": {},
   "outputs": [],
   "source": [
    "train['mean_hillshade'] =  np.mean(train['Hillshade_9am']  + train['Hillshade_Noon'] + train['Hillshade_3pm'] )\n",
    "test['mean_hillshade'] =  np.mean(test['Hillshade_9am']  + test['Hillshade_Noon'] + test['Hillshade_3pm'] )"
   ]
  },
  {
   "cell_type": "markdown",
   "metadata": {},
   "source": [
    "## Vertical distance in absolute put a worse result \n"
   ]
  },
  {
   "cell_type": "code",
   "execution_count": 8,
   "metadata": {},
   "outputs": [],
   "source": [
    "train['Horizontal_Distance_To_Fire_Points']=np.abs(train['Horizontal_Distance_To_Fire_Points'])\n",
    "test['Horizontal_Distance_To_Fire_Points']=np.abs(test['Horizontal_Distance_To_Fire_Points'])\n",
    "train['Horizontal_Distance_To_Hydrology_abs']=np.abs(train['Horizontal_Distance_To_Hydrology'])\n",
    "test['Horizontal_Distance_To_Hydrology_abs']=np.abs(test['Horizontal_Distance_To_Hydrology'])\n",
    "\n",
    "train['Vertical_Distance_To_Hydrology_abs']=np.abs(train['Vertical_Distance_To_Hydrology'])\n",
    "test['Vertical_Distance_To_Hydrology_abs']=np.abs(test['Vertical_Distance_To_Hydrology'])"
   ]
  },
  {
   "cell_type": "markdown",
   "metadata": {},
   "source": [
    "I finally kept the original data, which was giving a better result."
   ]
  },
  {
   "cell_type": "markdown",
   "metadata": {},
   "source": [
    "## Transforming the data in order to get a gaussian distribution"
   ]
  },
  {
   "cell_type": "markdown",
   "metadata": {},
   "source": [
    "### Horizontal distance to hydrology"
   ]
  },
  {
   "cell_type": "code",
   "execution_count": 9,
   "metadata": {},
   "outputs": [
    {
     "data": {
      "text/plain": [
       "<matplotlib.axes._subplots.AxesSubplot at 0x7f05790bf588>"
      ]
     },
     "execution_count": 9,
     "metadata": {},
     "output_type": "execute_result"
    },
    {
     "data": {
      "image/png": "[encoded data removed]",
      "text/plain": [
       "<Figure size 720x360 with 1 Axes>"
      ]
     },
     "metadata": {},
     "output_type": "display_data"
    },
    {
     "data": {
      "image/png": "[encoded data removed]",
      "text/plain": [
       "<Figure size 720x360 with 1 Axes>"
      ]
     },
     "metadata": {},
     "output_type": "display_data"
    }
   ],
   "source": [
    "plt.figure(figsize=(10,5))\n",
    "train.iloc[:,4].hist(bins=50) \n",
    "plt.title('Horizontal distance to hydrology')\n",
    "plt.figure(figsize=(10,5))\n",
    "plt.title('(Horizontal distance to hydrology)^(0.5)')\n",
    "np.sqrt(np.abs(train.iloc[:,4])).hist( bins=50) \n"
   ]
  },
  {
   "cell_type": "markdown",
   "metadata": {},
   "source": [
    "### Horizontal distance to roadways"
   ]
  },
  {
   "cell_type": "code",
   "execution_count": 10,
   "metadata": {},
   "outputs": [
    {
     "data": {
      "text/plain": [
       "<matplotlib.axes._subplots.AxesSubplot at 0x7f057902ed68>"
      ]
     },
     "execution_count": 10,
     "metadata": {},
     "output_type": "execute_result"
    },
    {
     "data": {
      "image/png": "[encoded data removed]",
      "text/plain": [
       "<Figure size 720x360 with 1 Axes>"
      ]
     },
     "metadata": {},
     "output_type": "display_data"
    },
    {
     "data": {
      "image/png": "[encoded data removed]",
      "text/plain": [
       "<Figure size 720x360 with 1 Axes>"
      ]
     },
     "metadata": {},
     "output_type": "display_data"
    }
   ],
   "source": [
    "plt.figure(figsize=(10,5))\n",
    "train.iloc[:,6].hist(bins=50) \n",
    "plt.title('Horizontal distance to roadways')\n",
    "plt.figure(figsize=(10,5))\n",
    "plt.title('(Horizontal distance to roadways)^(0.5)')\n",
    "np.sqrt(np.abs(train.iloc[:,6])).hist( bins=50) "
   ]
  },
  {
   "cell_type": "markdown",
   "metadata": {},
   "source": [
    "It was a try but did not improve the results."
   ]
  },
  {
   "cell_type": "code",
   "execution_count": 11,
   "metadata": {},
   "outputs": [],
   "source": [
    "train['Horizontal_Distance_To_Roadways_sq']=np.sqrt(np.abs(train['Horizontal_Distance_To_Roadways']))\n",
    "test['Horizontal_Distance_To_Roadways_sq']=np.sqrt(np.abs(test['Horizontal_Distance_To_Roadways']))\n",
    "train['Horizontal_Distance_To_Hydrology_sq']=np.sqrt(np.abs(train['Horizontal_Distance_To_Hydrology']))\n",
    "test['Horizontal_Distance_To_Hydrology_sq']=np.sqrt(np.abs(test['Horizontal_Distance_To_Hydrology']))"
   ]
  },
  {
   "cell_type": "markdown",
   "metadata": {},
   "source": [
    "No better results with the transformation, therefore I have selected the features written below"
   ]
  },
  {
   "cell_type": "code",
   "execution_count": 12,
   "metadata": {},
   "outputs": [],
   "source": [
    "X_for_corr= train[['Elevation', 'Aspect', 'Slope', 'Horizontal_Distance_To_Roadways', 'Horizontal_Distance_To_Fire_Points','Horizontal_Distance_To_Hydrology', 'Vertical_Distance_To_Hydrology', 'dist_to_water', 'mean_hillshade', 'soil','wilderness','Cover_Type']]"
   ]
  },
  {
   "cell_type": "markdown",
   "metadata": {},
   "source": [
    "# Looking the correlation between the features and their influence on the target: Cover_Type"
   ]
  },
  {
   "cell_type": "code",
   "execution_count": 13,
   "metadata": {},
   "outputs": [],
   "source": [
    "X_corr_evaluate=train[['Cover_Type','Horizontal_Distance_To_Hydrology','Horizontal_Distance_To_Hydrology_sq','dist_to_water','Vertical_Distance_To_Hydrology','Horizontal_Distance_To_Roadways_sq','Horizontal_Distance_To_Roadways']]"
   ]
  },
  {
   "cell_type": "code",
   "execution_count": 14,
   "metadata": {},
   "outputs": [
    {
     "data": {
      "text/html": [
       "<div>\n",
       "<style scoped>\n",
       "    .dataframe tbody tr th:only-of-type {\n",
       "        vertical-align: middle;\n",
       "    }\n",
       "\n",
       "    .dataframe tbody tr th {\n",
       "        vertical-align: top;\n",
       "    }\n",
       "\n",
       "    .dataframe thead th {\n",
       "        text-align: right;\n",
       "    }\n",
       "</style>\n",
       "<table border=\"1\" class=\"dataframe\">\n",
       "  <thead>\n",
       "    <tr style=\"text-align: right;\">\n",
       "      <th></th>\n",
       "      <th>Cover_Type</th>\n",
       "      <th>Horizontal_Distance_To_Hydrology</th>\n",
       "      <th>Horizontal_Distance_To_Hydrology_sq</th>\n",
       "      <th>dist_to_water</th>\n",
       "      <th>Vertical_Distance_To_Hydrology</th>\n",
       "      <th>Horizontal_Distance_To_Roadways_sq</th>\n",
       "      <th>Horizontal_Distance_To_Roadways</th>\n",
       "    </tr>\n",
       "  </thead>\n",
       "  <tbody>\n",
       "    <tr>\n",
       "      <th>Cover_Type</th>\n",
       "      <td>1.000000</td>\n",
       "      <td>-0.021310</td>\n",
       "      <td>-0.030954</td>\n",
       "      <td>-0.015168</td>\n",
       "      <td>0.080418</td>\n",
       "      <td>-0.161486</td>\n",
       "      <td>-0.153450</td>\n",
       "    </tr>\n",
       "    <tr>\n",
       "      <th>Horizontal_Distance_To_Hydrology</th>\n",
       "      <td>-0.021310</td>\n",
       "      <td>1.000000</td>\n",
       "      <td>0.959196</td>\n",
       "      <td>0.998635</td>\n",
       "      <td>0.603901</td>\n",
       "      <td>0.068585</td>\n",
       "      <td>0.071222</td>\n",
       "    </tr>\n",
       "    <tr>\n",
       "      <th>Horizontal_Distance_To_Hydrology_sq</th>\n",
       "      <td>-0.030954</td>\n",
       "      <td>0.959196</td>\n",
       "      <td>1.000000</td>\n",
       "      <td>0.958626</td>\n",
       "      <td>0.583097</td>\n",
       "      <td>0.058183</td>\n",
       "      <td>0.063074</td>\n",
       "    </tr>\n",
       "    <tr>\n",
       "      <th>dist_to_water</th>\n",
       "      <td>-0.015168</td>\n",
       "      <td>0.998635</td>\n",
       "      <td>0.958626</td>\n",
       "      <td>1.000000</td>\n",
       "      <td>0.636130</td>\n",
       "      <td>0.060786</td>\n",
       "      <td>0.063538</td>\n",
       "    </tr>\n",
       "    <tr>\n",
       "      <th>Vertical_Distance_To_Hydrology</th>\n",
       "      <td>0.080418</td>\n",
       "      <td>0.603901</td>\n",
       "      <td>0.583097</td>\n",
       "      <td>0.636130</td>\n",
       "      <td>1.000000</td>\n",
       "      <td>-0.048280</td>\n",
       "      <td>-0.047297</td>\n",
       "    </tr>\n",
       "    <tr>\n",
       "      <th>Horizontal_Distance_To_Roadways_sq</th>\n",
       "      <td>-0.161486</td>\n",
       "      <td>0.068585</td>\n",
       "      <td>0.058183</td>\n",
       "      <td>0.060786</td>\n",
       "      <td>-0.048280</td>\n",
       "      <td>1.000000</td>\n",
       "      <td>0.980598</td>\n",
       "    </tr>\n",
       "    <tr>\n",
       "      <th>Horizontal_Distance_To_Roadways</th>\n",
       "      <td>-0.153450</td>\n",
       "      <td>0.071222</td>\n",
       "      <td>0.063074</td>\n",
       "      <td>0.063538</td>\n",
       "      <td>-0.047297</td>\n",
       "      <td>0.980598</td>\n",
       "      <td>1.000000</td>\n",
       "    </tr>\n",
       "  </tbody>\n",
       "</table>\n",
       "</div>"
      ],
      "text/plain": [
       "                                     Cover_Type  \\\n",
       "Cover_Type                             1.000000   \n",
       "Horizontal_Distance_To_Hydrology      -0.021310   \n",
       "Horizontal_Distance_To_Hydrology_sq   -0.030954   \n",
       "dist_to_water                         -0.015168   \n",
       "Vertical_Distance_To_Hydrology         0.080418   \n",
       "Horizontal_Distance_To_Roadways_sq    -0.161486   \n",
       "Horizontal_Distance_To_Roadways       -0.153450   \n",
       "\n",
       "                                     Horizontal_Distance_To_Hydrology  \\\n",
       "Cover_Type                                                  -0.021310   \n",
       "Horizontal_Distance_To_Hydrology                             1.000000   \n",
       "Horizontal_Distance_To_Hydrology_sq                          0.959196   \n",
       "dist_to_water                                                0.998635   \n",
       "Vertical_Distance_To_Hydrology                               0.603901   \n",
       "Horizontal_Distance_To_Roadways_sq                           0.068585   \n",
       "Horizontal_Distance_To_Roadways                              0.071222   \n",
       "\n",
       "                                     Horizontal_Distance_To_Hydrology_sq  \\\n",
       "Cover_Type                                                     -0.030954   \n",
       "Horizontal_Distance_To_Hydrology                                0.959196   \n",
       "Horizontal_Distance_To_Hydrology_sq                             1.000000   \n",
       "dist_to_water                                                   0.958626   \n",
       "Vertical_Distance_To_Hydrology                                  0.583097   \n",
       "Horizontal_Distance_To_Roadways_sq                              0.058183   \n",
       "Horizontal_Distance_To_Roadways                                 0.063074   \n",
       "\n",
       "                                     dist_to_water  \\\n",
       "Cover_Type                               -0.015168   \n",
       "Horizontal_Distance_To_Hydrology          0.998635   \n",
       "Horizontal_Distance_To_Hydrology_sq       0.958626   \n",
       "dist_to_water                             1.000000   \n",
       "Vertical_Distance_To_Hydrology            0.636130   \n",
       "Horizontal_Distance_To_Roadways_sq        0.060786   \n",
       "Horizontal_Distance_To_Roadways           0.063538   \n",
       "\n",
       "                                     Vertical_Distance_To_Hydrology  \\\n",
       "Cover_Type                                                 0.080418   \n",
       "Horizontal_Distance_To_Hydrology                           0.603901   \n",
       "Horizontal_Distance_To_Hydrology_sq                        0.583097   \n",
       "dist_to_water                                              0.636130   \n",
       "Vertical_Distance_To_Hydrology                             1.000000   \n",
       "Horizontal_Distance_To_Roadways_sq                        -0.048280   \n",
       "Horizontal_Distance_To_Roadways                           -0.047297   \n",
       "\n",
       "                                     Horizontal_Distance_To_Roadways_sq  \\\n",
       "Cover_Type                                                    -0.161486   \n",
       "Horizontal_Distance_To_Hydrology                               0.068585   \n",
       "Horizontal_Distance_To_Hydrology_sq                            0.058183   \n",
       "dist_to_water                                                  0.060786   \n",
       "Vertical_Distance_To_Hydrology                                -0.048280   \n",
       "Horizontal_Distance_To_Roadways_sq                             1.000000   \n",
       "Horizontal_Distance_To_Roadways                                0.980598   \n",
       "\n",
       "                                     Horizontal_Distance_To_Roadways  \n",
       "Cover_Type                                                 -0.153450  \n",
       "Horizontal_Distance_To_Hydrology                            0.071222  \n",
       "Horizontal_Distance_To_Hydrology_sq                         0.063074  \n",
       "dist_to_water                                               0.063538  \n",
       "Vertical_Distance_To_Hydrology                             -0.047297  \n",
       "Horizontal_Distance_To_Roadways_sq                          0.980598  \n",
       "Horizontal_Distance_To_Roadways                             1.000000  "
      ]
     },
     "execution_count": 14,
     "metadata": {},
     "output_type": "execute_result"
    }
   ],
   "source": [
    "X_corr_evaluate.corr()"
   ]
  },
  {
   "cell_type": "markdown",
   "metadata": {},
   "source": [
    "We can see there is more correlation between the cover type and the square of the 2 quantities\n",
    "(Horizontal_Distance_To_Hydrology, Horizontal_Distance_To_Roadways). However it does not improve the results.."
   ]
  },
  {
   "cell_type": "markdown",
   "metadata": {},
   "source": [
    "# Prepare the model"
   ]
  },
  {
   "cell_type": "markdown",
   "metadata": {},
   "source": [
    "## Select the features which are more relevant to find the target"
   ]
  },
  {
   "cell_type": "code",
   "execution_count": 15,
   "metadata": {},
   "outputs": [],
   "source": [
    "ID=test['Id']\n",
    "X= train[['Elevation', 'Aspect', 'Slope', 'Horizontal_Distance_To_Roadways', 'Horizontal_Distance_To_Fire_Points','Horizontal_Distance_To_Hydrology', 'Vertical_Distance_To_Hydrology', 'dist_to_water', 'mean_hillshade', 'soil','wilderness']]\n",
    "y = train.Cover_Type\n",
    "X_test= test[['Elevation', 'Aspect', 'Slope', 'Horizontal_Distance_To_Roadways', 'Horizontal_Distance_To_Fire_Points', 'Horizontal_Distance_To_Hydrology', 'Vertical_Distance_To_Hydrology','dist_to_water_test', 'mean_hillshade', 'soil_test','wilderness_test']]"
   ]
  },
  {
   "cell_type": "markdown",
   "metadata": {},
   "source": [
    "## Choice of the evaluator"
   ]
  },
  {
   "cell_type": "markdown",
   "metadata": {},
   "source": [
    "The problem is a classification type. We want to predict labels. Therefore we need to use a classifier.\n",
    "Besides our features (covariates) are strongly dependant from each other, and the problem is non linear.\n",
    "Therefore one of the model which can handle this kind of issue, is the Random Forest Classifier."
   ]
  },
  {
   "cell_type": "markdown",
   "metadata": {},
   "source": [
    "## Use of cross-validation to find the optimal hyperparameters"
   ]
  },
  {
   "cell_type": "code",
   "execution_count": null,
   "metadata": {},
   "outputs": [],
   "source": [
    "param_grid = {\n",
    "    'bootstrap': [True],\n",
    "    'max_depth': [80],\n",
    "    'max_features': [6],\n",
    "    'min_samples_leaf': [2,4],\n",
    "    'min_samples_split': [6, 10],\n",
    "    'n_estimators': [200,300]\n",
    "}\n",
    "\n",
    "# Create a based model\n",
    "rf = RandomForestClassifier()\n",
    "\n",
    "# Instantiate the grid search model\n",
    "grid_search = GridSearchCV(estimator = rf, param_grid = param_grid, \n",
    "                          cv = 10, n_jobs = -1, verbose = 2)\n",
    "\n",
    "grid_search.fit(X, y)\n",
    "\n",
    "print (grid_search.best_estimator_)\n",
    "\n",
    "submission = pd.read_csv('submission-example.csv')\n",
    "submission['Id'] = ID\n",
    "submission['Cover_Type'] = grid_search.fit(X, y).predict(X_test)\n",
    "submission.to_csv('output_with_rf_morefeatures.csv', index = None)"
   ]
  },
  {
   "cell_type": "markdown",
   "metadata": {},
   "source": [
    "However, it was taking too much time so I have taken manually hyperparameters and have tried different values.\n",
    "I couldn't go higher than 300 estimators because of my computer power."
   ]
  },
  {
   "cell_type": "code",
   "execution_count": null,
   "metadata": {},
   "outputs": [],
   "source": [
    "param_grid = {\n",
    "    'bootstrap': True,\n",
    "    'max_depth': 80,\n",
    "    'max_features': 6,\n",
    "    'min_samples_leaf': 2,\n",
    "    'min_samples_split': 2,\n",
    "    'n_estimators': 300\n",
    "}\n",
    "\n",
    "# Create a based model\n",
    "rf = RandomForestClassifier(n_estimators= 300, max_features= 4)\n",
    "# Instantiate the grid search model\n",
    "#grid_search = GridSearchCV(estimator = rf, param_grid = param_grid, \n",
    "                        #  cv = 10, n_jobs = -1, verbose = 2)\n",
    "\n",
    "rf.fit(X, y)\n",
    "\n",
    "#print (rf.best_estimator_)\n",
    "\n",
    "submission = pd.read_csv('submission-example.csv')\n",
    "submission['Id'] = ID\n",
    "submission['Cover_Type'] =rf.fit(X, y).predict(X_test)\n",
    "submission.to_csv('output_with_rf_morefeatures.csv', index = None)"
   ]
  },
  {
   "cell_type": "markdown",
   "metadata": {},
   "source": [
    "In sklearn there is another evaluator ExtraTreesClassifier which have given me a little bit better results\n",
    "than the random forest.\n",
    "The ExtraTreesClassifier is a \"meta estimator that fits a number of randomized decision trees (a.k.a. extra-trees) on various sub-samples of the dataset and use averaging to improve the predictive accuracy and control over-fitting\". (from the doc of scikit learn).\n",
    "As it improves the predictive accuracy, we can hope to have a better score with it than Random Forest or Decision Tree. It gives better results when the features are a little bit noisy."
   ]
  },
  {
   "cell_type": "code",
   "execution_count": null,
   "metadata": {},
   "outputs": [],
   "source": [
    "#the number of features is supposed to be the square of the number of features in classification so\n",
    "#here between 4 and 3. However I used 6 in order to reduce computation power.\n",
    "\n",
    "xb=ExtraTreesClassifier(n_estimators= 300, max_features= 6)\n",
    "xb.fit(X, y)\n",
    "\n",
    "#print (xb.best_estimator_)\n",
    "\n",
    "submission = pd.read_csv('submission-example.csv')\n",
    "submission['Id'] = ID\n",
    "submission['Cover_Type'] =xb.fit(X, y).predict(X_test)\n",
    "submission.to_csv('output_with_xb_morefeaturesmoref310_auto_feature2.csv', index = None)"
   ]
  },
  {
   "cell_type": "markdown",
   "metadata": {},
   "source": [
    "I also try other evaluators, by using different parameters, in order to look at the difference.\n",
    "However I haven't had enough computation power. Moreover I still convince that the best thing to get a better score, is more the use of relevant features than the evaluator."
   ]
  },
  {
   "cell_type": "markdown",
   "metadata": {},
   "source": [
    "### Try AdaBoostClassifier with different hyperparameters"
   ]
  },
  {
   "cell_type": "code",
   "execution_count": null,
   "metadata": {},
   "outputs": [],
   "source": [
    "xb=AdaBoostClassifier(base_estimator=None, n_estimators=320, learning_rate=0.02, random_state=None)\n",
    "xb.fit(X, y)\n",
    "\n",
    "#print (rf.best_estimator_)\n",
    "\n",
    "submission = pd.read_csv('submission-example.csv')\n",
    "submission['Id'] = ID\n",
    "submission['Cover_Type'] =xb.fit(X, y).predict(X_test)\n",
    "submission.to_csv('output_with_adaboostg_morefeatures.csv', index = None)\n"
   ]
  },
  {
   "cell_type": "markdown",
   "metadata": {},
   "source": [
    "# Conclusion"
   ]
  },
  {
   "cell_type": "markdown",
   "metadata": {},
   "source": [
    "I got the best results with the ExtraTreesClassifier (which was a little bit better than the Random Forest Classifier).\n",
    "In order to have better result, I would have done a \"grid search\" (n cross validation) over a fine grid to get the optimal hyperparameters. However it requests a lot of computing power.."
   ]
  }
 ],
 "metadata": {
  "kernelspec": {
   "display_name": "Python 3",
   "language": "python",
   "name": "python3"
  },
  "language_info": {
   "codemirror_mode": {
    "name": "ipython",
    "version": 3
   },
   "file_extension": ".py",
   "mimetype": "text/x-python",
   "name": "python",
   "nbconvert_exporter": "python",
   "pygments_lexer": "ipython3",
   "version": "3.6.5"
  }
 },
 "nbformat": 4,
 "nbformat_minor": 2
}
